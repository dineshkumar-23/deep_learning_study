{
 "metadata": {
  "language_info": {
   "codemirror_mode": {
    "name": "ipython",
    "version": 3
   },
   "file_extension": ".py",
   "mimetype": "text/x-python",
   "name": "python",
   "nbconvert_exporter": "python",
   "pygments_lexer": "ipython3",
   "version": "3.8.7"
  },
  "orig_nbformat": 2,
  "kernelspec": {
   "name": "python3",
   "display_name": "Python 3.8.7 64-bit",
   "metadata": {
    "interpreter": {
     "hash": "0de972bab974f987e475c975d7e13c1788effd2cf7708142fabf2d466d1a9af3"
    }
   }
  }
 },
 "nbformat": 4,
 "nbformat_minor": 2,
 "cells": [
  {
   "cell_type": "code",
   "execution_count": 27,
   "metadata": {},
   "outputs": [],
   "source": [
    "import numpy as np\n",
    "from random import randint\n",
    "from sklearn.utils import shuffle\n",
    "from sklearn.preprocessing import MinMaxScaler"
   ]
  },
  {
   "cell_type": "code",
   "execution_count": 28,
   "metadata": {},
   "outputs": [],
   "source": [
    "train_labels = []\n",
    "train_samples = []"
   ]
  },
  {
   "source": [
    "### Creating the dataset\n",
    "An experimental drug was tested on individuals from ages 13 to 100 in a clinical trial.\n",
    "The trial had 2100 participants. Half of them were under 65 and other half above 65.\n",
    "Around 95% under 65 years of age did not experience anz side effects.\n",
    "Around 95% above 65 years of age experienced side effects"
   ],
   "cell_type": "markdown",
   "metadata": {}
  },
  {
   "cell_type": "code",
   "execution_count": 29,
   "metadata": {},
   "outputs": [],
   "source": [
    "for i in range(50):\n",
    "    random_younger = randint(13,64)\n",
    "    train_samples.append(random_younger)\n",
    "    train_labels.append(1)\n",
    "\n",
    "    random_older = randint(65,100)\n",
    "    train_samples.append(random_older)\n",
    "    train_labels.append(0)\n",
    "\n",
    "for i in range(1000):\n",
    "    random_younger = randint(13,64)\n",
    "    train_samples.append(random_younger)\n",
    "    train_labels.append(0)\n",
    "\n",
    "    random_older = randint(65,100)\n",
    "    train_samples.append(random_older)\n",
    "    train_labels.append(1)"
   ]
  },
  {
   "cell_type": "code",
   "execution_count": 30,
   "metadata": {},
   "outputs": [],
   "source": [
    "train_labels = np.array(train_labels)\n",
    "train_samples = np.array(train_samples)\n",
    "train_labels , train_samples = shuffle(train_labels, train_samples)"
   ]
  },
  {
   "cell_type": "code",
   "execution_count": 31,
   "metadata": {},
   "outputs": [
    {
     "output_type": "stream",
     "name": "stdout",
     "text": [
      "(2100,) (2100,)\n"
     ]
    }
   ],
   "source": [
    "print(train_labels.shape, train_samples.shape)"
   ]
  },
  {
   "cell_type": "code",
   "execution_count": 32,
   "metadata": {},
   "outputs": [],
   "source": [
    "scaler = MinMaxScaler(feature_range=(0,1))\n",
    "scaled_train_samples = scaler.fit_transform(train_samples.reshape(-1,1))"
   ]
  },
  {
   "cell_type": "code",
   "execution_count": 33,
   "metadata": {},
   "outputs": [
    {
     "output_type": "stream",
     "name": "stdout",
     "text": [
      "(2100, 1)\n"
     ]
    }
   ],
   "source": [
    "print(scaled_train_samples.shape)"
   ]
  },
  {
   "cell_type": "code",
   "execution_count": 34,
   "metadata": {},
   "outputs": [],
   "source": [
    "import tensorflow as tf\n",
    "from tensorflow import keras\n",
    "from tensorflow.keras.models import Sequential\n",
    "from tensorflow.keras.layers import Activation, Dense\n",
    "from tensorflow.keras.optimizers import Adam\n",
    "from tensorflow.keras.metrics import categorical_crossentropy"
   ]
  },
  {
   "cell_type": "code",
   "execution_count": 35,
   "metadata": {},
   "outputs": [
    {
     "output_type": "stream",
     "name": "stdout",
     "text": [
      "Num of GPU available: 1\n"
     ]
    }
   ],
   "source": [
    "physical_devices = tf.config.experimental.list_physical_devices('GPU')\n",
    "print(f'Num of GPU available: {len(physical_devices)}')\n",
    "tf.config.experimental.set_memory_growth(physical_devices[0], True)"
   ]
  },
  {
   "cell_type": "code",
   "execution_count": 36,
   "metadata": {},
   "outputs": [
    {
     "output_type": "stream",
     "name": "stdout",
     "text": [
      "Model: \"sequential_2\"\n_________________________________________________________________\nLayer (type)                 Output Shape              Param #   \n=================================================================\ndense_6 (Dense)              (None, 16)                32        \n_________________________________________________________________\ndense_7 (Dense)              (None, 32)                544       \n_________________________________________________________________\ndense_8 (Dense)              (None, 2)                 66        \n=================================================================\nTotal params: 642\nTrainable params: 642\nNon-trainable params: 0\n_________________________________________________________________\n"
     ]
    }
   ],
   "source": [
    "model = Sequential([\n",
    "    Dense(units=16, input_shape=(1,), activation='relu'),\n",
    "    Dense(units=32, activation='relu'),\n",
    "    Dense(units=2, activation='softmax')\n",
    "])\n",
    "model.summary()"
   ]
  },
  {
   "cell_type": "code",
   "execution_count": 39,
   "metadata": {},
   "outputs": [],
   "source": [
    "model.compile(optimizer=Adam(learning_rate=0.01), loss='sparse_categorical_crossentropy', metrics=['accuracy'])"
   ]
  },
  {
   "cell_type": "code",
   "execution_count": 40,
   "metadata": {},
   "outputs": [
    {
     "output_type": "stream",
     "name": "stdout",
     "text": [
      "Epoch 1/30\n",
      "210/210 - 1s - loss: 0.3164 - accuracy: 0.8848\n",
      "Epoch 2/30\n",
      "210/210 - 0s - loss: 0.2469 - accuracy: 0.9281\n",
      "Epoch 3/30\n",
      "210/210 - 0s - loss: 0.2436 - accuracy: 0.9300\n",
      "Epoch 4/30\n",
      "210/210 - 0s - loss: 0.2392 - accuracy: 0.9362\n",
      "Epoch 5/30\n",
      "210/210 - 0s - loss: 0.2379 - accuracy: 0.9314\n",
      "Epoch 6/30\n",
      "210/210 - 0s - loss: 0.2294 - accuracy: 0.9381\n",
      "Epoch 7/30\n",
      "210/210 - 0s - loss: 0.2270 - accuracy: 0.9343\n",
      "Epoch 8/30\n",
      "210/210 - 0s - loss: 0.2291 - accuracy: 0.9329\n",
      "Epoch 9/30\n",
      "210/210 - 0s - loss: 0.2326 - accuracy: 0.9305\n",
      "Epoch 10/30\n",
      "210/210 - 0s - loss: 0.2305 - accuracy: 0.9362\n",
      "Epoch 11/30\n",
      "210/210 - 0s - loss: 0.2151 - accuracy: 0.9419\n",
      "Epoch 12/30\n",
      "210/210 - 0s - loss: 0.2152 - accuracy: 0.9386\n",
      "Epoch 13/30\n",
      "210/210 - 0s - loss: 0.2250 - accuracy: 0.9319\n",
      "Epoch 14/30\n",
      "210/210 - 0s - loss: 0.2152 - accuracy: 0.9410\n",
      "Epoch 15/30\n",
      "210/210 - 0s - loss: 0.2188 - accuracy: 0.9386\n",
      "Epoch 16/30\n",
      "210/210 - 0s - loss: 0.2153 - accuracy: 0.9405\n",
      "Epoch 17/30\n",
      "210/210 - 0s - loss: 0.2118 - accuracy: 0.9433\n",
      "Epoch 18/30\n",
      "210/210 - 0s - loss: 0.2110 - accuracy: 0.9410\n",
      "Epoch 19/30\n",
      "210/210 - 0s - loss: 0.2127 - accuracy: 0.9438\n",
      "Epoch 20/30\n",
      "210/210 - 0s - loss: 0.2133 - accuracy: 0.9424\n",
      "Epoch 21/30\n",
      "210/210 - 0s - loss: 0.2156 - accuracy: 0.9386\n",
      "Epoch 22/30\n",
      "210/210 - 0s - loss: 0.2113 - accuracy: 0.9438\n",
      "Epoch 23/30\n",
      "210/210 - 0s - loss: 0.2189 - accuracy: 0.9400\n",
      "Epoch 24/30\n",
      "210/210 - 0s - loss: 0.2185 - accuracy: 0.9338\n",
      "Epoch 25/30\n",
      "210/210 - 0s - loss: 0.2167 - accuracy: 0.9376\n",
      "Epoch 26/30\n",
      "210/210 - 0s - loss: 0.2165 - accuracy: 0.9386\n",
      "Epoch 27/30\n",
      "210/210 - 0s - loss: 0.2072 - accuracy: 0.9452\n",
      "Epoch 28/30\n",
      "210/210 - 0s - loss: 0.2205 - accuracy: 0.9419\n",
      "Epoch 29/30\n",
      "210/210 - 0s - loss: 0.2097 - accuracy: 0.9457\n",
      "Epoch 30/30\n",
      "210/210 - 0s - loss: 0.2149 - accuracy: 0.9395\n"
     ]
    },
    {
     "output_type": "execute_result",
     "data": {
      "text/plain": [
       "<tensorflow.python.keras.callbacks.History at 0x27ead382e80>"
      ]
     },
     "metadata": {},
     "execution_count": 40
    }
   ],
   "source": [
    "#without validation split\n",
    "model.fit(x=scaled_train_samples,y=train_labels, batch_size=10, epochs=30, shuffle=True, verbose=2)"
   ]
  },
  {
   "cell_type": "code",
   "execution_count": 41,
   "metadata": {},
   "outputs": [
    {
     "output_type": "stream",
     "name": "stdout",
     "text": [
      "Epoch 1/30\n",
      "168/168 - 1s - loss: 0.3691 - accuracy: 0.8452 - val_loss: 0.2494 - val_accuracy: 0.9310\n",
      "Epoch 2/30\n",
      "168/168 - 0s - loss: 0.2536 - accuracy: 0.9286 - val_loss: 0.2449 - val_accuracy: 0.9238\n",
      "Epoch 3/30\n",
      "168/168 - 0s - loss: 0.2567 - accuracy: 0.9179 - val_loss: 0.2624 - val_accuracy: 0.9095\n",
      "Epoch 4/30\n",
      "168/168 - 0s - loss: 0.2367 - accuracy: 0.9369 - val_loss: 0.2154 - val_accuracy: 0.9429\n",
      "Epoch 5/30\n",
      "168/168 - 0s - loss: 0.2387 - accuracy: 0.9327 - val_loss: 0.2285 - val_accuracy: 0.9238\n",
      "Epoch 6/30\n",
      "168/168 - 0s - loss: 0.2382 - accuracy: 0.9310 - val_loss: 0.2147 - val_accuracy: 0.9571\n",
      "Epoch 7/30\n",
      "168/168 - 0s - loss: 0.2303 - accuracy: 0.9321 - val_loss: 0.2081 - val_accuracy: 0.9429\n",
      "Epoch 8/30\n",
      "168/168 - 0s - loss: 0.2284 - accuracy: 0.9369 - val_loss: 0.2066 - val_accuracy: 0.9571\n",
      "Epoch 9/30\n",
      "168/168 - 0s - loss: 0.2265 - accuracy: 0.9363 - val_loss: 0.2037 - val_accuracy: 0.9571\n",
      "Epoch 10/30\n",
      "168/168 - 0s - loss: 0.2223 - accuracy: 0.9393 - val_loss: 0.2396 - val_accuracy: 0.9119\n",
      "Epoch 11/30\n",
      "168/168 - 0s - loss: 0.2203 - accuracy: 0.9387 - val_loss: 0.1991 - val_accuracy: 0.9500\n",
      "Epoch 12/30\n",
      "168/168 - 0s - loss: 0.2207 - accuracy: 0.9387 - val_loss: 0.1982 - val_accuracy: 0.9571\n",
      "Epoch 13/30\n",
      "168/168 - 0s - loss: 0.2201 - accuracy: 0.9411 - val_loss: 0.2050 - val_accuracy: 0.9429\n",
      "Epoch 14/30\n",
      "168/168 - 0s - loss: 0.2270 - accuracy: 0.9339 - val_loss: 0.2169 - val_accuracy: 0.9429\n",
      "Epoch 15/30\n",
      "168/168 - 0s - loss: 0.2209 - accuracy: 0.9387 - val_loss: 0.1997 - val_accuracy: 0.9571\n",
      "Epoch 16/30\n",
      "168/168 - 0s - loss: 0.2215 - accuracy: 0.9393 - val_loss: 0.2049 - val_accuracy: 0.9429\n",
      "Epoch 17/30\n",
      "168/168 - 0s - loss: 0.2342 - accuracy: 0.9310 - val_loss: 0.1977 - val_accuracy: 0.9500\n",
      "Epoch 18/30\n",
      "168/168 - 0s - loss: 0.2443 - accuracy: 0.9256 - val_loss: 0.1964 - val_accuracy: 0.9500\n",
      "Epoch 19/30\n",
      "168/168 - 0s - loss: 0.2198 - accuracy: 0.9363 - val_loss: 0.1969 - val_accuracy: 0.9571\n",
      "Epoch 20/30\n",
      "168/168 - 0s - loss: 0.2174 - accuracy: 0.9369 - val_loss: 0.2007 - val_accuracy: 0.9429\n",
      "Epoch 21/30\n",
      "168/168 - 0s - loss: 0.2172 - accuracy: 0.9411 - val_loss: 0.1939 - val_accuracy: 0.9500\n",
      "Epoch 22/30\n",
      "168/168 - 0s - loss: 0.2174 - accuracy: 0.9393 - val_loss: 0.1954 - val_accuracy: 0.9500\n",
      "Epoch 23/30\n",
      "168/168 - 0s - loss: 0.2156 - accuracy: 0.9399 - val_loss: 0.1955 - val_accuracy: 0.9571\n",
      "Epoch 24/30\n",
      "168/168 - 0s - loss: 0.2206 - accuracy: 0.9399 - val_loss: 0.2081 - val_accuracy: 0.9405\n",
      "Epoch 25/30\n",
      "168/168 - 0s - loss: 0.2142 - accuracy: 0.9393 - val_loss: 0.2418 - val_accuracy: 0.9238\n",
      "Epoch 26/30\n",
      "168/168 - 0s - loss: 0.2218 - accuracy: 0.9405 - val_loss: 0.2015 - val_accuracy: 0.9571\n",
      "Epoch 27/30\n",
      "168/168 - 0s - loss: 0.2140 - accuracy: 0.9399 - val_loss: 0.1999 - val_accuracy: 0.9500\n",
      "Epoch 28/30\n",
      "168/168 - 0s - loss: 0.2188 - accuracy: 0.9417 - val_loss: 0.1913 - val_accuracy: 0.9571\n",
      "Epoch 29/30\n",
      "168/168 - 0s - loss: 0.2247 - accuracy: 0.9393 - val_loss: 0.1920 - val_accuracy: 0.9571\n",
      "Epoch 30/30\n",
      "168/168 - 0s - loss: 0.2170 - accuracy: 0.9429 - val_loss: 0.1914 - val_accuracy: 0.9500\n"
     ]
    },
    {
     "output_type": "execute_result",
     "data": {
      "text/plain": [
       "<tensorflow.python.keras.callbacks.History at 0x27eb080cca0>"
      ]
     },
     "metadata": {},
     "execution_count": 41
    }
   ],
   "source": [
    "#with validation split\n",
    "model2 = Sequential([\n",
    "    Dense(units=16, input_shape=(1,), activation='relu'),\n",
    "    Dense(units=32, activation='relu'),\n",
    "    Dense(units=2, activation='softmax')\n",
    "])\n",
    "model2.compile(optimizer=Adam(learning_rate=0.01), loss='sparse_categorical_crossentropy', metrics=['accuracy'])\n",
    "model2.fit(x=scaled_train_samples,y=train_labels, validation_split=0.2, batch_size=10, epochs=30, shuffle=True, verbose=2)"
   ]
  },
  {
   "cell_type": "code",
   "execution_count": 43,
   "metadata": {},
   "outputs": [],
   "source": [
    "#creating test data\n",
    "test_samples = []\n",
    "test_labels = []\n",
    "\n",
    "for i in range(10):\n",
    "    random_younger = randint(13,64)\n",
    "    test_samples.append(random_younger)\n",
    "    test_labels.append(1)\n",
    "\n",
    "    random_older = randint(65,100)\n",
    "    test_samples.append(random_older)\n",
    "    test_labels.append(0)\n",
    "\n",
    "for i in range(200):\n",
    "    random_younger = randint(13,64)\n",
    "    test_samples.append(random_younger)\n",
    "    test_labels.append(0)\n",
    "\n",
    "    random_older = randint(65,100)\n",
    "    test_samples.append(random_older)\n",
    "    test_labels.append(1)\n",
    "\n",
    "test_samples = np.array(test_samples)\n",
    "test_labels = np.array(test_labels)\n",
    "\n",
    "scaled_test_samples = scale"
   ]
  }
 ]
}